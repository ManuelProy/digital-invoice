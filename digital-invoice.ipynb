{
  "metadata": {
    "kernelspec": {
      "language": "python",
      "display_name": "Python 3",
      "name": "python3"
    },
    "language_info": {
      "name": "python",
      "version": "3.7.6",
      "mimetype": "text/x-python",
      "codemirror_mode": {
        "name": "ipython",
        "version": 3
      },
      "pygments_lexer": "ipython3",
      "nbconvert_exporter": "python",
      "file_extension": ".py"
    },
    "kaggle": {
      "accelerator": "none",
      "dataSources": [
        {
          "sourceId": 1523170,
          "sourceType": "datasetVersion",
          "datasetId": 897933
        },
        {
          "sourceId": 7626757,
          "sourceType": "datasetVersion",
          "datasetId": 4443305
        },
        {
          "sourceId": 7626775,
          "sourceType": "datasetVersion",
          "datasetId": 4443322
        },
        {
          "sourceId": 7626832,
          "sourceType": "datasetVersion",
          "datasetId": 4443362
        },
        {
          "sourceId": 7627160,
          "sourceType": "datasetVersion",
          "datasetId": 4443592
        },
        {
          "sourceId": 44213245,
          "sourceType": "kernelVersion"
        }
      ],
      "dockerImageVersionId": 30014,
      "isInternetEnabled": true,
      "language": "python",
      "sourceType": "notebook",
      "isGpuEnabled": false
    },
    "colab": {
      "name": "Receipt OCR Part 2: Text recognition by Tesseract",
      "provenance": [],
      "include_colab_link": true
    }
  },
  "nbformat_minor": 0,
  "nbformat": 4,
  "cells": [
    {
      "cell_type": "markdown",
      "metadata": {
        "id": "view-in-github",
        "colab_type": "text"
      },
      "source": [
        "<a href=\"https://colab.research.google.com/github/ManuelProy/digital-invoice/blob/main/digital-invoice.ipynb\" target=\"_parent\"><img src=\"https://colab.research.google.com/assets/colab-badge.svg\" alt=\"Open In Colab\"/></a>"
      ]
    },
    {
      "source": [
        "\n",
        "# IMPORTANT: RUN THIS CELL IN ORDER TO IMPORT YOUR KAGGLE DATA SOURCES\n",
        "# TO THE CORRECT LOCATION (/kaggle/input) IN YOUR NOTEBOOK,\n",
        "# THEN FEEL FREE TO DELETE THIS CELL.\n",
        "# NOTE: THIS NOTEBOOK ENVIRONMENT DIFFERS FROM KAGGLE'S PYTHON\n",
        "# ENVIRONMENT SO THERE MAY BE MISSING LIBRARIES USED BY YOUR\n",
        "# NOTEBOOK.\n",
        "\n",
        "import os\n",
        "import sys\n",
        "from tempfile import NamedTemporaryFile\n",
        "from urllib.request import urlopen\n",
        "from urllib.parse import unquote, urlparse\n",
        "from urllib.error import HTTPError\n",
        "from zipfile import ZipFile\n",
        "import tarfile\n",
        "import shutil\n",
        "\n",
        "CHUNK_SIZE = 40960\n",
        "DATA_SOURCE_MAPPING = 'factura:https%3A%2F%2Fstorage.googleapis.com%2Fkaggle-data-sets%2F4443305%2F7626757%2Fbundle%2Farchive.zip%3FX-Goog-Algorithm%3DGOOG4-RSA-SHA256%26X-Goog-Credential%3Dgcp-kaggle-com%2540kaggle-161607.iam.gserviceaccount.com%252F20240214%252Fauto%252Fstorage%252Fgoog4_request%26X-Goog-Date%3D20240214T235935Z%26X-Goog-Expires%3D259200%26X-Goog-SignedHeaders%3Dhost%26X-Goog-Signature%3D1ef27e4103089bcc73ca04ce25767686cb839248e452ad8118908e70dd41368eaf771f6d7654ccd352bc9fa531f785705d4f38552f32804c19aa310874e2f731db80925acb754dd21417029c0bfa8c7775e837ee18b57bad76f8bb440896a83b634ee296cf798117fd99f65299f124c09d5c76bc133f62209868e6f7c100d8f0f626aaac3bd014f170b64c7d9dc272f69bad2043485f97bc92e63eb026bfedc198c768e3782fc273f2dbfdd0a7f8ea562d8685c24290d028770d464250988c1ed641793ae06572fee479125fc80fdc5e1abe77b0d991a0001d7abbad56adc9986eb2b50ff52e565bd90873c463a32d5f72065ae85685ce64d2888c890d0f4397,factura2:https%3A%2F%2Fstorage.googleapis.com%2Fkaggle-data-sets%2F4443322%2F7626775%2Fbundle%2Farchive.zip%3FX-Goog-Algorithm%3DGOOG4-RSA-SHA256%26X-Goog-Credential%3Dgcp-kaggle-com%2540kaggle-161607.iam.gserviceaccount.com%252F20240214%252Fauto%252Fstorage%252Fgoog4_request%26X-Goog-Date%3D20240214T235936Z%26X-Goog-Expires%3D259200%26X-Goog-SignedHeaders%3Dhost%26X-Goog-Signature%3D6c162b3ff9e45d3470e22a8fbd5b3e593783bb7021bac4014efbaa06521ca1126a173cdec132d20f478bd4349f179d5721670e39960c5045ec2152dbbb63a7c81a830d2099d8ece8e3e2184b6df04384b6d991abbe85530d8ee38e506d37047f6fc7eb6e4dbda928eff2e38d2e1234fba1471cf58532ef2791bb0cf479159d62f1613bc18e4575cccdf924cd4881f8521f9226ed6488d27a1d20ca167df71a57af1c4bedff04274749db76b4bfd65edf4eaff7a97eae47b36d926e4b3ab7e09ae086840beaa484d02cadd7c0b3b604946c29eafc096d260efebdbd489d205c00068f599cf2e1596dbc2b628e21d064fb588f2837a68d303c1f6d89ff7ecc6caa,factura3:https%3A%2F%2Fstorage.googleapis.com%2Fkaggle-data-sets%2F4443362%2F7626832%2Fbundle%2Farchive.zip%3FX-Goog-Algorithm%3DGOOG4-RSA-SHA256%26X-Goog-Credential%3Dgcp-kaggle-com%2540kaggle-161607.iam.gserviceaccount.com%252F20240214%252Fauto%252Fstorage%252Fgoog4_request%26X-Goog-Date%3D20240214T235936Z%26X-Goog-Expires%3D259200%26X-Goog-SignedHeaders%3Dhost%26X-Goog-Signature%3D8f03c60aea447b725de26aac263b8db2bed3bc94928ee88781f525bfa1720958d40ff60af9ba5e258a3ba9506f7642d0aef4afcc4e56d7b034f3a74f20314b2a320b8a4c7399256332ca8d6207e0e280604eca6e219bb9759c54d8a86ca6af29f8ec35651815363629f9428b8d76c6f18d308294c65427f8025671abbb613c4680952de5e9b5ec2dcb54402eeae0a2b6f1f2a93c12d07aba889114a062c6731a10164dae08cf021d86c4954226bed8f9e4abf09d26e25585aefa2696e884c99fb5861d8eb806af7f04273f93fe577b1c0a091223d22f72c42fb03079f66dc3d0ae7dd8e0c7cef7a916278f5c48948e597509f4966b9efc42e0cdf3362914978b,facturas:https%3A%2F%2Fstorage.googleapis.com%2Fkaggle-data-sets%2F4443592%2F7627160%2Fbundle%2Farchive.zip%3FX-Goog-Algorithm%3DGOOG4-RSA-SHA256%26X-Goog-Credential%3Dgcp-kaggle-com%2540kaggle-161607.iam.gserviceaccount.com%252F20240214%252Fauto%252Fstorage%252Fgoog4_request%26X-Goog-Date%3D20240214T235936Z%26X-Goog-Expires%3D259200%26X-Goog-SignedHeaders%3Dhost%26X-Goog-Signature%3D065b7b31841421a13b61aa6531654ff3213170443d00e9ea18bd4bd54fa0fdda3030b219b894adeac4ead96d31fca7de151ccab2f79a02b4db58b0e36066eb4da42b7d4c2ac2ccf69d59a7a4cbeab1e502ecf72e31f2b6a7652b498c666680ec868eb1c5eee49dacdcff37ed3167bfd866e833e28da6659b50b1d3f665c7972c81f6bf048ece6408fb09d4cf88b6cd7d154a0f4448315da0d004cc86382d8a288a951bd579268f05a94a9fc685cc83d314cb2964fb1b45485ddbdbde1703f3f1c92560390c82fc202cb2b991b801c0412e71556a1ac659db66425105941b640d5125f8f73af3d1700c4abd06c11dc81c726adc24d4bcc23f545485930664e0e8'\n",
        "\n",
        "KAGGLE_INPUT_PATH='/kaggle/input'\n",
        "KAGGLE_WORKING_PATH='/kaggle/working'\n",
        "KAGGLE_SYMLINK='kaggle'\n",
        "\n",
        "!umount /kaggle/input/ 2> /dev/null\n",
        "shutil.rmtree('/kaggle/input', ignore_errors=True)\n",
        "os.makedirs(KAGGLE_INPUT_PATH, 0o777, exist_ok=True)\n",
        "os.makedirs(KAGGLE_WORKING_PATH, 0o777, exist_ok=True)\n",
        "\n",
        "try:\n",
        "  os.symlink(KAGGLE_INPUT_PATH, os.path.join(\"..\", 'input'), target_is_directory=True)\n",
        "except FileExistsError:\n",
        "  pass\n",
        "try:\n",
        "  os.symlink(KAGGLE_WORKING_PATH, os.path.join(\"..\", 'working'), target_is_directory=True)\n",
        "except FileExistsError:\n",
        "  pass\n",
        "\n",
        "for data_source_mapping in DATA_SOURCE_MAPPING.split(','):\n",
        "    directory, download_url_encoded = data_source_mapping.split(':')\n",
        "    download_url = unquote(download_url_encoded)\n",
        "    filename = urlparse(download_url).path\n",
        "    destination_path = os.path.join(KAGGLE_INPUT_PATH, directory)\n",
        "    try:\n",
        "        with urlopen(download_url) as fileres, NamedTemporaryFile() as tfile:\n",
        "            total_length = fileres.headers['content-length']\n",
        "            print(f'Downloading {directory}, {total_length} bytes compressed')\n",
        "            dl = 0\n",
        "            data = fileres.read(CHUNK_SIZE)\n",
        "            while len(data) > 0:\n",
        "                dl += len(data)\n",
        "                tfile.write(data)\n",
        "                done = int(50 * dl / int(total_length))\n",
        "                sys.stdout.write(f\"\\r[{'=' * done}{' ' * (50-done)}] {dl} bytes downloaded\")\n",
        "                sys.stdout.flush()\n",
        "                data = fileres.read(CHUNK_SIZE)\n",
        "            if filename.endswith('.zip'):\n",
        "              with ZipFile(tfile) as zfile:\n",
        "                zfile.extractall(destination_path)\n",
        "            else:\n",
        "              with tarfile.open(tfile.name) as tarfile:\n",
        "                tarfile.extractall(destination_path)\n",
        "            print(f'\\nDownloaded and uncompressed: {directory}')\n",
        "    except HTTPError as e:\n",
        "        print(f'Failed to load (likely expired) {download_url} to path {destination_path}')\n",
        "        continue\n",
        "    except OSError as e:\n",
        "        print(f'Failed to load {download_url} to path {destination_path}')\n",
        "        continue\n",
        "\n",
        "print('Data source import complete.')\n"
      ],
      "metadata": {
        "id": "iqo8RpmDD9Uv"
      },
      "cell_type": "code",
      "outputs": [],
      "execution_count": null
    },
    {
      "cell_type": "markdown",
      "source": [
        "# Receipt OCR notebook series: Problem definition\n",
        "\n",
        "> Given a arbitrary photo containing a receipt, extract grand total number\n",
        "\n",
        "![](https://storage.googleapis.com/www.forwardit.lv/kaggle/receipt_home_kaggle.png)\n",
        "\n",
        "The solution is divided into smaller tasks:\n",
        "\n",
        "1. Get a scanned version of receipt by restoring perspective (done in the [previous notebook](https://www.kaggle.com/dmitryyemelyanov/receipt-ocr-part-1-image-segmentation-by-opencv))\n",
        "2. **Apply OCR to find all texts within image**\n",
        "3. **Find grand total as the largest number among recognized texts**\n",
        "\n",
        "> One should remember that some tasks could be solved with traditional computer vision algorithms\n",
        "\n",
        "This work aims to address a common pitfall among machine learning practitioners: trying to solve simple problems with the complex tools."
      ],
      "metadata": {
        "id": "qKlCS2c6D9U2"
      }
    },
    {
      "cell_type": "markdown",
      "source": [
        "# About this notebook\n",
        "\n",
        "This is a **part two notebook** in the *Receipt OCR with OpenCV* series. [Previously](https://www.kaggle.com/dmitryyemelyanov/receipt-ocr-part-1-image-segmentation-by-opencv) we have extracted a scanned version of the receipt out of the image. This notebook deals with the second step of the process: reading text information from it.\n",
        "* Locating text boxes on the image\n",
        "* Extracting all the texts from the image\n",
        "* Obtaining grand total as the largest floating point number among texts\n",
        "\n",
        "Let's get started!"
      ],
      "metadata": {
        "id": "t_16OtldD9U4"
      }
    },
    {
      "cell_type": "code",
      "source": [
        "import numpy as np\n",
        "import cv2\n",
        "import matplotlib.pyplot as plt\n",
        "import pytesseract\n",
        "import re\n",
        "\n",
        "from pytesseract import Output"
      ],
      "metadata": {
        "execution": {
          "iopub.status.busy": "2024-02-14T23:42:57.376813Z",
          "iopub.execute_input": "2024-02-14T23:42:57.377537Z",
          "iopub.status.idle": "2024-02-14T23:42:57.384763Z",
          "shell.execute_reply.started": "2024-02-14T23:42:57.377472Z",
          "shell.execute_reply": "2024-02-14T23:42:57.38377Z"
        },
        "trusted": true,
        "id": "aw4U4XPiD9U4"
      },
      "execution_count": null,
      "outputs": []
    },
    {
      "cell_type": "markdown",
      "source": [
        "Defining helper methods:"
      ],
      "metadata": {
        "id": "4R0L_BVOD9U5"
      }
    },
    {
      "cell_type": "code",
      "source": [
        "def plot_gray(image):\n",
        "    plt.figure(figsize=(16,10))\n",
        "    return plt.imshow(image, cmap='Greys_r')"
      ],
      "metadata": {
        "execution": {
          "iopub.status.busy": "2024-02-14T23:42:57.386935Z",
          "iopub.execute_input": "2024-02-14T23:42:57.387282Z",
          "iopub.status.idle": "2024-02-14T23:42:57.414724Z",
          "shell.execute_reply.started": "2024-02-14T23:42:57.387247Z",
          "shell.execute_reply": "2024-02-14T23:42:57.413758Z"
        },
        "trusted": true,
        "id": "TjIDzwEvD9U5"
      },
      "execution_count": null,
      "outputs": []
    },
    {
      "cell_type": "code",
      "source": [
        "def plot_rgb(image):\n",
        "    plt.figure(figsize=(16,10))\n",
        "    return plt.imshow(cv2.cvtColor(image, cv2.COLOR_BGR2RGB))"
      ],
      "metadata": {
        "execution": {
          "iopub.status.busy": "2024-02-14T23:42:57.415963Z",
          "iopub.execute_input": "2024-02-14T23:42:57.416396Z",
          "iopub.status.idle": "2024-02-14T23:42:57.431149Z",
          "shell.execute_reply.started": "2024-02-14T23:42:57.416355Z",
          "shell.execute_reply": "2024-02-14T23:42:57.429718Z"
        },
        "trusted": true,
        "id": "K1jsqnwmD9U6"
      },
      "execution_count": null,
      "outputs": []
    },
    {
      "cell_type": "markdown",
      "source": [
        "We will use a scanned version of the receipt, which is the output of the [previous notebook in the series](https://www.kaggle.com/dmitryyemelyanov/receipt-ocr-part-1-image-segmentation-by-opencv):"
      ],
      "metadata": {
        "id": "ILnjFmHrD9U6"
      }
    },
    {
      "cell_type": "code",
      "source": [
        "file_name = \"/kaggle/input/facturas/ordinaria.jpg\"\n",
        "image = cv2.imread(file_name, cv2.IMREAD_GRAYSCALE)\n",
        "plot_gray(image)"
      ],
      "metadata": {
        "execution": {
          "iopub.status.busy": "2024-02-14T23:48:26.461271Z",
          "iopub.execute_input": "2024-02-14T23:48:26.461735Z",
          "iopub.status.idle": "2024-02-14T23:48:26.733139Z",
          "shell.execute_reply.started": "2024-02-14T23:48:26.461696Z",
          "shell.execute_reply": "2024-02-14T23:48:26.732043Z"
        },
        "trusted": true,
        "id": "wKAwn2ADD9U7"
      },
      "execution_count": null,
      "outputs": []
    },
    {
      "cell_type": "markdown",
      "source": [
        "# Step 1: Text box detection"
      ],
      "metadata": {
        "id": "7979AB8XD9U7"
      }
    },
    {
      "cell_type": "code",
      "source": [
        "d = pytesseract.image_to_data(image, output_type=Output.DICT)\n",
        "n_boxes = len(d['level'])\n",
        "boxes = cv2.cvtColor(image.copy(), cv2.COLOR_BGR2RGB)\n",
        "for i in range(n_boxes):\n",
        "    (x, y, w, h) = (d['left'][i], d['top'][i], d['width'][i], d['height'][i])\n",
        "    boxes = cv2.rectangle(boxes, (x, y), (x + w, y + h), (0, 255, 0), 2)\n",
        "\n",
        "plot_rgb(boxes)"
      ],
      "metadata": {
        "execution": {
          "iopub.status.busy": "2024-02-14T23:48:34.055725Z",
          "iopub.execute_input": "2024-02-14T23:48:34.056178Z",
          "iopub.status.idle": "2024-02-14T23:48:35.332367Z",
          "shell.execute_reply.started": "2024-02-14T23:48:34.056137Z",
          "shell.execute_reply": "2024-02-14T23:48:35.331096Z"
        },
        "trusted": true,
        "id": "LcPJFGnMD9U8"
      },
      "execution_count": null,
      "outputs": []
    },
    {
      "cell_type": "code",
      "source": [
        "boxes[0]"
      ],
      "metadata": {
        "execution": {
          "iopub.status.busy": "2024-02-14T23:48:43.384711Z",
          "iopub.execute_input": "2024-02-14T23:48:43.385345Z",
          "iopub.status.idle": "2024-02-14T23:48:43.392897Z",
          "shell.execute_reply.started": "2024-02-14T23:48:43.385282Z",
          "shell.execute_reply": "2024-02-14T23:48:43.391532Z"
        },
        "trusted": true,
        "id": "QOeQeaF0D9U8"
      },
      "execution_count": null,
      "outputs": []
    },
    {
      "cell_type": "markdown",
      "source": [
        "# Step 2: Text recognition"
      ],
      "metadata": {
        "id": "L9MkD8Z0D9U9"
      }
    },
    {
      "cell_type": "code",
      "source": [
        "extracted_text = pytesseract.image_to_string(image)\n",
        "print(extracted_text)\n",
        "type(extracted_text)\n"
      ],
      "metadata": {
        "execution": {
          "iopub.status.busy": "2024-02-14T23:48:47.555419Z",
          "iopub.execute_input": "2024-02-14T23:48:47.555796Z",
          "iopub.status.idle": "2024-02-14T23:48:48.290079Z",
          "shell.execute_reply.started": "2024-02-14T23:48:47.555765Z",
          "shell.execute_reply": "2024-02-14T23:48:48.288755Z"
        },
        "trusted": true,
        "id": "ERQQvE36D9U9"
      },
      "execution_count": null,
      "outputs": []
    },
    {
      "cell_type": "markdown",
      "source": [
        "# Step 3: Extracting invoice lines\n",
        "\n",
        "We will use regular expression to extract all floating point numbers out of the all detected texts."
      ],
      "metadata": {
        "id": "TwuuI0dbD9U-"
      }
    },
    {
      "cell_type": "code",
      "source": [],
      "metadata": {
        "trusted": true,
        "id": "cRcqwIfsD9U-"
      },
      "execution_count": null,
      "outputs": []
    },
    {
      "cell_type": "code",
      "source": [],
      "metadata": {
        "trusted": true,
        "id": "jgpSmxG3D9U_"
      },
      "execution_count": null,
      "outputs": []
    },
    {
      "cell_type": "code",
      "source": [],
      "metadata": {
        "trusted": true,
        "id": "MwtOhQp_D9U_"
      },
      "execution_count": null,
      "outputs": []
    },
    {
      "cell_type": "code",
      "source": [],
      "metadata": {
        "trusted": true,
        "id": "6qitLY1_D9U_"
      },
      "execution_count": null,
      "outputs": []
    },
    {
      "cell_type": "code",
      "source": [
        "patron = r'\\b\\d+,\\d+\\b'\n",
        "resultados = re.findall(patron, extracted_text)\n",
        "\n",
        "print(resultados)"
      ],
      "metadata": {
        "execution": {
          "iopub.status.busy": "2024-02-14T23:43:03.320195Z",
          "iopub.execute_input": "2024-02-14T23:43:03.320753Z",
          "iopub.status.idle": "2024-02-14T23:43:03.328281Z",
          "shell.execute_reply.started": "2024-02-14T23:43:03.320706Z",
          "shell.execute_reply": "2024-02-14T23:43:03.327052Z"
        },
        "trusted": true,
        "id": "n-yZNkkVD9U_"
      },
      "execution_count": null,
      "outputs": []
    },
    {
      "cell_type": "markdown",
      "source": [
        "Grand total is the largest one:"
      ],
      "metadata": {
        "id": "-DypDXpeD9VA"
      }
    },
    {
      "cell_type": "code",
      "source": [
        "def lines(extracted_text):\n",
        "    lineas_con_numeros = [linea for linea in extracted_text.splitlines() if re.search(r'^(?=.*[a-zA-Z])(?=.*\\d.*,\\d).*$', linea)]\n",
        "    diccionario = {f\"Línea {i + 1}\": linea for i, linea in enumerate(lineas_con_numeros)}\n",
        "\n",
        "    return(diccionario)"
      ],
      "metadata": {
        "execution": {
          "iopub.status.busy": "2024-02-14T23:50:34.39784Z",
          "iopub.execute_input": "2024-02-14T23:50:34.398198Z",
          "iopub.status.idle": "2024-02-14T23:50:34.406123Z",
          "shell.execute_reply.started": "2024-02-14T23:50:34.398168Z",
          "shell.execute_reply": "2024-02-14T23:50:34.404657Z"
        },
        "trusted": true,
        "id": "uUgiGcOcD9VA"
      },
      "execution_count": null,
      "outputs": []
    },
    {
      "cell_type": "code",
      "source": [
        "lines(extracted_text)\n",
        "\n"
      ],
      "metadata": {
        "execution": {
          "iopub.status.busy": "2024-02-14T23:50:36.092454Z",
          "iopub.execute_input": "2024-02-14T23:50:36.093054Z",
          "iopub.status.idle": "2024-02-14T23:50:36.100565Z",
          "shell.execute_reply.started": "2024-02-14T23:50:36.093015Z",
          "shell.execute_reply": "2024-02-14T23:50:36.099156Z"
        },
        "trusted": true,
        "id": "4NKi0xSbD9VB"
      },
      "execution_count": null,
      "outputs": []
    },
    {
      "cell_type": "code",
      "source": [
        "import re\n",
        "\n",
        "texto = \"Línea sin decimales ni letras\\nLínea con el número 42\\nOtra línea con texto\\n123,45\"\n",
        "\n",
        "lineas_filtradas = [linea for linea in texto.splitlines() if re.match(r'^(?=.*[a-zA-Z])(?=.*\\d)|(?=[^a-zA-Z\\d])$', linea)]\n",
        "\n",
        "print(lineas_filtradas)\n"
      ],
      "metadata": {
        "execution": {
          "iopub.status.busy": "2024-02-14T23:43:03.397065Z",
          "iopub.status.idle": "2024-02-14T23:43:03.397629Z"
        },
        "trusted": true,
        "id": "qqIHHWhrD9VB"
      },
      "execution_count": null,
      "outputs": []
    },
    {
      "cell_type": "code",
      "source": [
        "diccionario"
      ],
      "metadata": {
        "execution": {
          "iopub.status.busy": "2024-02-14T23:43:03.399776Z",
          "iopub.status.idle": "2024-02-14T23:43:03.40072Z"
        },
        "trusted": true,
        "id": "3ybEd0WID9VC"
      },
      "execution_count": null,
      "outputs": []
    },
    {
      "cell_type": "markdown",
      "source": [
        "Feel free to experiment with other regular expressions to find VAT number, company name, date or even read receipt positions!"
      ],
      "metadata": {
        "id": "82H0A_9LD9VC"
      }
    },
    {
      "cell_type": "markdown",
      "source": [
        "# About the Author\n",
        "\n",
        "This notebook is published under the **Data Science DJ** initiative with the goal of giving you distilled pieces of valuable information, short and concise, easy to comprehend.\n",
        "\n",
        "I spend a few hours every day to write a single post about a single concept. You can find them by:\n",
        "\n",
        "* [Joining my Telegram channel](https://t.me/datasciencedj)\n",
        "* [Following my LinkedIn tag](https://www.linkedin.com/feed/hashtag/?keywords=datasciencedj)\n",
        "\n",
        "If this work gives you joy, or maybe even inspiration, please consider contributing to my [Patreon account](https://www.patreon.com/datasciencedj).\n",
        "Thank you!"
      ],
      "metadata": {
        "id": "fLJJb_KdD9VC"
      }
    },
    {
      "cell_type": "markdown",
      "source": [
        "# Resources\n",
        "\n",
        "1. [OCR a document, form, or invoice with Tesseract, OpenCV, and Python](https://www.pyimagesearch.com/2020/09/07/ocr-a-document-form-or-invoice-with-tesseract-opencv-and-python/) by Adrian Rosebrock\n",
        "2. [Text Detection and Extraction using OpenCV and OCR](https://www.geeksforgeeks.org/text-detection-and-extraction-using-opencv-and-ocr/) by Anandh Jagadeesan\n",
        "3. [A comprehensive guide to OCR with Tesseract, OpenCV and Python](https://nanonets.com/blog/ocr-with-tesseract/) by Filip Zelic & Anuj Sable"
      ],
      "metadata": {
        "id": "45h_USUsD9VD"
      }
    }
  ]
}